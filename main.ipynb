{
 "cells": [
  {
   "cell_type": "markdown",
   "id": "d19e3e1c-403c-4e76-a75c-686180717fe9",
   "metadata": {},
   "source": [
    "# 観測データと背景知識に基づく応用一般均衡モデル生産サイド（縮約版成長回帰モデル）構造の自動生成\n",
    "因果探索と論理整合性検証によるモデル構造のデータ駆動的構築：ブーリアンルールと最適化モデルの統合"
   ]
  },
  {
   "cell_type": "markdown",
   "id": "949b5e93-1145-48d3-bb7d-f5c810d80314",
   "metadata": {},
   "source": [
    "1. 観測データから因果探索\n",
    "- 実データを用いて DirectLiNGAM などで因果構造を抽出\n",
    "- ブーリアンルール（if A then B）として表現\n",
    "\n",
    "2. LLMを用いた背景知識の獲得\n",
    "- ノード間の意味的関係（例：「GDPが高いなら労働力も高い」など）を自然言語で取得\n",
    "- 背景知識もブーリアンルールに変換\n",
    "\n",
    "3. 観測ルール × 背景ルールの整合性評価\n",
    "- Answer Set Programming（ASP）を用い、充足可能性を確認\n",
    "- 競合ルール（矛盾）を自動検出 → 排除\n",
    "\n",
    "4. データ駆動ルールによる構造式定義\n",
    "- 使用可能な観測由来ルールから、CGEモデルの生産関数の因果構造を生成\n",
    "- 各式の係数（β）は実データから推定（回帰分析）\n",
    "\n",
    "5. コブダグラス生産関数によるマクロ的統合\n",
    "- 回帰式をネストし、CGEモデルの生産関数を形成\n",
    "- GAMSpyにより最適化モデルとして構築・解く"
   ]
  },
  {
   "cell_type": "markdown",
   "id": "ad3d60b0-4ae3-483e-8ec0-1e07cfceaa08",
   "metadata": {},
   "source": [
    "## 準備"
   ]
  },
  {
   "cell_type": "markdown",
   "id": "ba5614c5-2933-4b3c-9332-c31ca53760df",
   "metadata": {},
   "source": [
    "- Ollamaをダウンロードする\n",
    "https://ollama.com/download\n",
    "- ターミナルで以下実行する（モデルがダウンロードされ、Ollamaがバックグラウンドで起動する）\n",
    "ollama run mistral"
   ]
  },
  {
   "cell_type": "markdown",
   "id": "45dfa12d-7f13-464b-a006-818d781574d1",
   "metadata": {},
   "source": [
    "- GraphvizをダウンロードしPATHを通す https://graphviz.org/download/"
   ]
  },
  {
   "cell_type": "code",
   "execution_count": 7,
   "id": "0b5b8df7-094c-46c9-9407-d2a164ad035e",
   "metadata": {},
   "outputs": [],
   "source": [
    "# 設定読み込み\n",
    "import sys\n",
    "import yaml\n",
    "sys.path.append(\"scripts\")\n",
    "with open(\"config.yaml\", \"r\") as f:\n",
    "    config = yaml.safe_load(f)"
   ]
  },
  {
   "cell_type": "code",
   "execution_count": 8,
   "id": "4a54df86-3692-4ee3-a56e-009334784878",
   "metadata": {},
   "outputs": [
    {
     "data": {
      "text/plain": [
       "<module 'cge_model' from 'C:\\\\Users\\\\user\\\\OneDrive\\\\Desktop\\\\seeps2025\\\\scripts\\\\cge_model.py'>"
      ]
     },
     "execution_count": 8,
     "metadata": {},
     "output_type": "execute_result"
    }
   ],
   "source": [
    "import importlib\n",
    "import fetch_wbdata, causal_graph, rule_extractor, rule_converter, background_knowledge, asp_generator, infer_hypotheses, cge_model\n",
    "importlib.reload(fetch_wbdata)\n",
    "importlib.reload(causal_graph)\n",
    "importlib.reload(rule_extractor)\n",
    "importlib.reload(rule_converter)\n",
    "importlib.reload(background_knowledge)\n",
    "importlib.reload(asp_generator)\n",
    "importlib.reload(infer_hypotheses)\n",
    "importlib.reload(cge_model)"
   ]
  },
  {
   "cell_type": "code",
   "execution_count": 9,
   "id": "97df5660-78a8-45c7-95a1-85b982f2f3b9",
   "metadata": {},
   "outputs": [],
   "source": [
    "from fetch_wbdata import fetch_worldbank_data\n",
    "from causal_graph import estimate_and_plot_causal_graph, plot_causal_graph_from_rules\n",
    "from rule_extractor import extract_boolean_rules \n",
    "from rule_converter import rule_to_asp_program\n",
    "from background_knowledge import extract_background_rules # Ollamaが起動している状態で実行\n",
    "from asp_generator import rule_to_asp\n",
    "from infer_hypotheses import run_clingo, check_satisfiability, detect_conflicts, remove_conflicting_data_rules\n",
    "from cge_model import build_custom_nested_cge_model, generate_latex_equations_with_coefficients, estimate_alpha_and_build_cd_model_constrained"
   ]
  },
  {
   "cell_type": "markdown",
   "id": "2efbff65-df81-4f7d-94b0-fb3d1a41a44d",
   "metadata": {},
   "source": [
    "## 観測データからの因果探索"
   ]
  },
  {
   "cell_type": "code",
   "execution_count": 10,
   "id": "7055487a-bf08-4baa-a5cb-d2fb7f7bdab0",
   "metadata": {},
   "outputs": [
    {
     "name": "stdout",
     "output_type": "stream",
     "text": [
      "🔄 Fetching data from World Bank...\n",
      "✅ Data saved to: data/cge_base_data.csv\n"
     ]
    }
   ],
   "source": [
    "df = fetch_worldbank_data(\"config.yaml\")"
   ]
  },
  {
   "cell_type": "code",
   "execution_count": 11,
   "id": "f429c4ae-a55e-4287-bb1c-09562b9e42e3",
   "metadata": {},
   "outputs": [
    {
     "data": {
      "text/html": [
       "<div>\n",
       "<style scoped>\n",
       "    .dataframe tbody tr th:only-of-type {\n",
       "        vertical-align: middle;\n",
       "    }\n",
       "\n",
       "    .dataframe tbody tr th {\n",
       "        vertical-align: top;\n",
       "    }\n",
       "\n",
       "    .dataframe thead th {\n",
       "        text-align: right;\n",
       "    }\n",
       "</style>\n",
       "<table border=\"1\" class=\"dataframe\">\n",
       "  <thead>\n",
       "    <tr style=\"text-align: right;\">\n",
       "      <th></th>\n",
       "      <th>Country</th>\n",
       "      <th>Year</th>\n",
       "      <th>GDP (current US$)</th>\n",
       "      <th>Gross capital formation (% of GDP)</th>\n",
       "      <th>Exports of goods and services (% of GDP)</th>\n",
       "      <th>Imports of goods and services (% of GDP)</th>\n",
       "      <th>Unemployment rate (%)</th>\n",
       "      <th>Total labor force</th>\n",
       "      <th>CO2 emissions per capita</th>\n",
       "      <th>Renewable energy consumption (% of total final energy consumption)</th>\n",
       "      <th>Energy use per capita (kg of oil equivalent)</th>\n",
       "    </tr>\n",
       "  </thead>\n",
       "  <tbody>\n",
       "    <tr>\n",
       "      <th>0</th>\n",
       "      <td>Brazil</td>\n",
       "      <td>2010</td>\n",
       "      <td>2.208838e+12</td>\n",
       "      <td>21.801322</td>\n",
       "      <td>10.865585</td>\n",
       "      <td>11.906593</td>\n",
       "      <td>8.422</td>\n",
       "      <td>96467543.0</td>\n",
       "      <td>2.270341</td>\n",
       "      <td>46.8</td>\n",
       "      <td>1381.001236</td>\n",
       "    </tr>\n",
       "    <tr>\n",
       "      <th>1</th>\n",
       "      <td>Brazil</td>\n",
       "      <td>2011</td>\n",
       "      <td>2.616156e+12</td>\n",
       "      <td>21.826271</td>\n",
       "      <td>11.582513</td>\n",
       "      <td>12.351892</td>\n",
       "      <td>7.578</td>\n",
       "      <td>95987652.0</td>\n",
       "      <td>2.373464</td>\n",
       "      <td>45.2</td>\n",
       "      <td>1386.561240</td>\n",
       "    </tr>\n",
       "    <tr>\n",
       "      <th>2</th>\n",
       "      <td>Brazil</td>\n",
       "      <td>2012</td>\n",
       "      <td>2.465228e+12</td>\n",
       "      <td>21.417225</td>\n",
       "      <td>11.877539</td>\n",
       "      <td>13.236735</td>\n",
       "      <td>7.251</td>\n",
       "      <td>96690220.0</td>\n",
       "      <td>2.528103</td>\n",
       "      <td>43.5</td>\n",
       "      <td>1429.552350</td>\n",
       "    </tr>\n",
       "    <tr>\n",
       "      <th>3</th>\n",
       "      <td>Brazil</td>\n",
       "      <td>2013</td>\n",
       "      <td>2.472820e+12</td>\n",
       "      <td>21.693767</td>\n",
       "      <td>11.742231</td>\n",
       "      <td>14.043727</td>\n",
       "      <td>7.071</td>\n",
       "      <td>97945820.0</td>\n",
       "      <td>2.636097</td>\n",
       "      <td>42.3</td>\n",
       "      <td>1483.682318</td>\n",
       "    </tr>\n",
       "    <tr>\n",
       "      <th>4</th>\n",
       "      <td>Brazil</td>\n",
       "      <td>2014</td>\n",
       "      <td>2.456044e+12</td>\n",
       "      <td>20.548411</td>\n",
       "      <td>11.011943</td>\n",
       "      <td>13.673463</td>\n",
       "      <td>6.755</td>\n",
       "      <td>98901551.0</td>\n",
       "      <td>2.729587</td>\n",
       "      <td>41.7</td>\n",
       "      <td>1517.770555</td>\n",
       "    </tr>\n",
       "  </tbody>\n",
       "</table>\n",
       "</div>"
      ],
      "text/plain": [
       "  Country  Year  GDP (current US$)  Gross capital formation (% of GDP)  \\\n",
       "0  Brazil  2010       2.208838e+12                           21.801322   \n",
       "1  Brazil  2011       2.616156e+12                           21.826271   \n",
       "2  Brazil  2012       2.465228e+12                           21.417225   \n",
       "3  Brazil  2013       2.472820e+12                           21.693767   \n",
       "4  Brazil  2014       2.456044e+12                           20.548411   \n",
       "\n",
       "   Exports of goods and services (% of GDP)  \\\n",
       "0                                 10.865585   \n",
       "1                                 11.582513   \n",
       "2                                 11.877539   \n",
       "3                                 11.742231   \n",
       "4                                 11.011943   \n",
       "\n",
       "   Imports of goods and services (% of GDP)  Unemployment rate (%)  \\\n",
       "0                                 11.906593                  8.422   \n",
       "1                                 12.351892                  7.578   \n",
       "2                                 13.236735                  7.251   \n",
       "3                                 14.043727                  7.071   \n",
       "4                                 13.673463                  6.755   \n",
       "\n",
       "   Total labor force  CO2 emissions per capita  \\\n",
       "0         96467543.0                  2.270341   \n",
       "1         95987652.0                  2.373464   \n",
       "2         96690220.0                  2.528103   \n",
       "3         97945820.0                  2.636097   \n",
       "4         98901551.0                  2.729587   \n",
       "\n",
       "   Renewable energy consumption (% of total final energy consumption)  \\\n",
       "0                                               46.8                    \n",
       "1                                               45.2                    \n",
       "2                                               43.5                    \n",
       "3                                               42.3                    \n",
       "4                                               41.7                    \n",
       "\n",
       "   Energy use per capita (kg of oil equivalent)  \n",
       "0                                   1381.001236  \n",
       "1                                   1386.561240  \n",
       "2                                   1429.552350  \n",
       "3                                   1483.682318  \n",
       "4                                   1517.770555  "
      ]
     },
     "execution_count": 11,
     "metadata": {},
     "output_type": "execute_result"
    }
   ],
   "source": [
    "df.head()"
   ]
  },
  {
   "cell_type": "code",
   "execution_count": 12,
   "id": "44790371-6e15-4a7a-a038-8dc89284b94f",
   "metadata": {},
   "outputs": [
    {
     "name": "stdout",
     "output_type": "stream",
     "text": [
      "Graphviz layout failed (dot overflow?), falling back to spring layout.\n"
     ]
    },
    {
     "data": {
      "image/png": "[encoded data removed]",
      "text/plain": [
       "<Figure size 800x600 with 1 Axes>"
      ]
     },
     "metadata": {},
     "output_type": "display_data"
    },
    {
     "name": "stdout",
     "output_type": "stream",
     "text": [
      "✅ エッジ情報を data/causal_graph_edges.csv に保存しました。\n"
     ]
    }
   ],
   "source": [
    "# 因果グラフ生成\n",
    "G, adj_matrix = estimate_and_plot_causal_graph(config[\"causal\"])"
   ]
  },
  {
   "cell_type": "markdown",
   "id": "4de59a10-28cb-487d-a932-31fb255a0bdf",
   "metadata": {},
   "source": [
    "## 観測データ由来のブーリアンルールを抽出し保存"
   ]
  },
  {
   "cell_type": "code",
   "execution_count": 13,
   "id": "e17a4727-d7de-48c6-b429-bc366a57c81c",
   "metadata": {},
   "outputs": [
    {
     "name": "stdout",
     "output_type": "stream",
     "text": [
      "IF GDP (current US$) > 1115666684419.25 THEN Total labor force ↑\n",
      "IF GDP (current US$) > 1115666684419.25 THEN CO2 emissions per capita ↓\n",
      "IF GDP (current US$) > 1115666684419.25 THEN Energy use per capita (kg of oil equivalent) ↓\n",
      "IF Gross capital formation (% of GDP) > 22.17 THEN CO2 emissions per capita ↓\n",
      "IF Gross capital formation (% of GDP) > 22.17 THEN Energy use per capita (kg of oil equivalent) ↓\n",
      "IF Exports of goods and services (% of GDP) > 21.41 THEN Unemployment rate (%) ↑\n",
      "IF Exports of goods and services (% of GDP) > 21.41 THEN CO2 emissions per capita ↑\n",
      "IF Imports of goods and services (% of GDP) > 24.52 THEN Exports of goods and services (% of GDP) ↑\n",
      "IF Imports of goods and services (% of GDP) > 24.52 THEN Total labor force ↓\n",
      "IF CO2 emissions per capita > 2.25 THEN Energy use per capita (kg of oil equivalent) ↑\n",
      "IF Renewable energy consumption (% of total final energy consumption) > 32.70 THEN Exports of goods and services (% of GDP) ↓\n",
      "IF Renewable energy consumption (% of total final energy consumption) > 32.70 THEN CO2 emissions per capita ↓\n",
      "IF Energy use per capita (kg of oil equivalent) > 1100.11 THEN Unemployment rate (%) ↑\n"
     ]
    }
   ],
   "source": [
    "# ルール抽出\n",
    "rules = extract_boolean_rules(G, df, threshold_mode=config[\"rule_extractor\"][\"threshold_mode\"])\n",
    "\n",
    "# ルール表示\n",
    "for rule in rules:\n",
    "    print(rule)"
   ]
  },
  {
   "cell_type": "code",
   "execution_count": 14,
   "id": "3bd0255f-1330-426d-9e98-cbfad2ccb58a",
   "metadata": {},
   "outputs": [
    {
     "name": "stdout",
     "output_type": "stream",
     "text": [
      "=== ASP Program Rules ===\n",
      "total_labor_force_high :- gdp_current_us_high.\n",
      "co2_emissions_per_capita_high :- not gdp_current_us_high.\n",
      "energy_use_per_capita_kg_of_oil_equivalent_high :- not gdp_current_us_high.\n",
      "co2_emissions_per_capita_high :- not gross_capital_formation_of_gdp_high.\n",
      "energy_use_per_capita_kg_of_oil_equivalent_high :- not gross_capital_formation_of_gdp_high.\n",
      "unemployment_rate_high :- exports_of_goods_and_services_of_gdp_high.\n",
      "co2_emissions_per_capita_high :- exports_of_goods_and_services_of_gdp_high.\n",
      "exports_of_goods_and_services_of_gdp_high :- imports_of_goods_and_services_of_gdp_high.\n",
      "total_labor_force_high :- not imports_of_goods_and_services_of_gdp_high.\n",
      "energy_use_per_capita_kg_of_oil_equivalent_high :- co2_emissions_per_capita_high.\n",
      "exports_of_goods_and_services_of_gdp_high :- not renewable_energy_consumption_of_total_final_energy_consumption_high.\n",
      "co2_emissions_per_capita_high :- not renewable_energy_consumption_of_total_final_energy_consumption_high.\n",
      "unemployment_rate_high :- energy_use_per_capita_kg_of_oil_equivalent_high.\n"
     ]
    }
   ],
   "source": [
    "asp_program = rule_to_asp_program(rules)\n",
    "\n",
    "print(\"=== ASP Program Rules ===\")\n",
    "with open(\"rules/data_rules.lp\",mode=\"w\",encoding=\"utf-8\") as f:\n",
    "    for r in asp_program:\n",
    "        print(r)    \n",
    "        f.write(r+\"\\n\")"
   ]
  },
  {
   "cell_type": "markdown",
   "id": "9a4e564c-39d3-40a4-9155-0efe1d1f6c04",
   "metadata": {},
   "source": [
    "## 背景知識由来のブーリアンルールをLLMで自動生成し保存"
   ]
  },
  {
   "cell_type": "code",
   "execution_count": 15,
   "id": "d4615891-7872-4f2e-a40f-94115371e495",
   "metadata": {
    "scrolled": true
   },
   "outputs": [
    {
     "name": "stderr",
     "output_type": "stream",
     "text": [
      "  0%|          | 0/9 [00:00<?, ?it/s]"
     ]
    },
    {
     "name": "stdout",
     "output_type": "stream",
     "text": [
      "checking...\n",
      "['gdp_current_us_high', 'gross_capital_formation_of_gdp_high']\n",
      "asp_rule exists:  gross_capital_formation_of_gdp_high :- gdp_current_us_high.\n",
      "checking...\n",
      "['gdp_current_us_high', 'exports_of_goods_and_services_of_gdp_high']\n",
      "asp_rule exists:  exports_of_goods_and_services_of_gdp_high :- gdp_current_us_high.\n",
      "checking...\n",
      "['gdp_current_us_high', 'imports_of_goods_and_services_of_gdp_high']\n",
      "asp_rule exists:  imports_of_goods_and_services_of_gdp_high :- gdp_current_us_high.\n",
      "checking...\n",
      "['gdp_current_us_high', 'unemployment_rate_high']\n",
      "asp_rule exists:  unemployment_rate_high :- gdp_current_us_low.\n",
      "checking...\n",
      "['gdp_current_us_high', 'total_labor_force_high']\n",
      "asp_rule exists:  total_labor_force_high :- gdp_current_us_high.\n",
      "checking...\n",
      "['gdp_current_us_high', 'co2_emissions_per_capita_high']\n",
      "asp_rule exists:  co2_emissions_per_capita_high :- gdp_current_us_high.\n",
      "checking...\n",
      "['gdp_current_us_high', 'renewable_energy_consumption_of_total_final_energy_consumption_high']\n",
      "checking...\n",
      "['gdp_current_us_high', 'energy_use_per_capita_kg_of_oil_equivalent_high']\n"
     ]
    },
    {
     "name": "stderr",
     "output_type": "stream",
     "text": [
      " 11%|█         | 1/9 [01:34<12:34, 94.27s/it]"
     ]
    },
    {
     "name": "stdout",
     "output_type": "stream",
     "text": [
      "asp_rule exists:  energy_use_per_capita_kg_of_oil_equivalent_high :- gdp_current_us_high.\n",
      "checking...\n",
      "['gross_capital_formation_of_gdp_high', 'gdp_current_us_high']\n",
      "asp_rule exists:  gdp_current_us_high :- gross_capital_formation_of_gdp_high.\n",
      "checking...\n",
      "['gross_capital_formation_of_gdp_high', 'exports_of_goods_and_services_of_gdp_high']\n",
      "asp_rule exists:  exports_of_goods_and_services_of_gdp_high :- gross_capital_formation_of_gdp_high.\n",
      "checking...\n",
      "['gross_capital_formation_of_gdp_high', 'imports_of_goods_and_services_of_gdp_high']\n",
      "asp_rule exists:  imports_of_goods_and_services_of_gdp_high :- gross_capital_formation_of_gdp_high.\n",
      "checking...\n",
      "['gross_capital_formation_of_gdp_high', 'unemployment_rate_high']\n",
      "asp_rule exists:  unemployment_rate_high :- gross_capital_formation_of_gdp_high.\n",
      "checking...\n",
      "['gross_capital_formation_of_gdp_high', 'co2_emissions_per_capita_high']\n",
      "asp_rule exists:  co2_emissions_per_capita_high :- gross_capital_formation_of_gdp_high.\n",
      "checking...\n",
      "['gross_capital_formation_of_gdp_high', 'renewable_energy_consumption_of_total_final_energy_consumption_high']\n",
      "asp_rule exists:  renewable_energy_consumption_of_total_final_energy_consumption_high :- gross_capital_formation_of_gdp_high.\n",
      "checking...\n",
      "['gross_capital_formation_of_gdp_high', 'energy_use_per_capita_kg_of_oil_equivalent_high']\n"
     ]
    },
    {
     "name": "stderr",
     "output_type": "stream",
     "text": [
      " 22%|██▏       | 2/9 [03:29<12:26, 106.58s/it]"
     ]
    },
    {
     "name": "stdout",
     "output_type": "stream",
     "text": [
      "asp_rule exists:  energy_use_per_capita_kg_of_oil_equivalent_high :- gross_capital_formation_of_gdp_high.\n",
      "checking...\n",
      "['exports_of_goods_and_services_of_gdp_high', 'gdp_current_us_high']\n",
      "asp_rule exists:  gdp_current_us_high :- exports_of_goods_and_services_of_gdp_high.\n",
      "checking...\n",
      "['exports_of_goods_and_services_of_gdp_high', 'gross_capital_formation_of_gdp_high']\n",
      "asp_rule exists:  gross_capital_formation_of_gdp_high :- exports_of_goods_and_services_of_gdp_high.\n",
      "checking...\n",
      "['exports_of_goods_and_services_of_gdp_high', 'imports_of_goods_and_services_of_gdp_high']\n",
      "asp_rule exists:  imports_of_goods_and_services_of_gdp_high :- exports_of_goods_and_services_of_gdp_high.\n",
      "checking...\n",
      "['exports_of_goods_and_services_of_gdp_high', 'unemployment_rate_high']\n",
      "asp_rule exists:  unemployment_rate_high :- exports_of_goods_and_services_of_gdp_high.\n",
      "checking...\n",
      "['exports_of_goods_and_services_of_gdp_high', 'total_labor_force_high']\n",
      "asp_rule exists:  total_labor_force_high :- exports_of_goods_and_services_of_gdp_high.\n",
      "checking...\n",
      "['exports_of_goods_and_services_of_gdp_high', 'co2_emissions_per_capita_high']\n",
      "checking...\n",
      "['exports_of_goods_and_services_of_gdp_high', 'renewable_energy_consumption_of_total_final_energy_consumption_high']\n",
      "checking...\n",
      "['exports_of_goods_and_services_of_gdp_high', 'energy_use_per_capita_kg_of_oil_equivalent_high']\n"
     ]
    },
    {
     "name": "stderr",
     "output_type": "stream",
     "text": [
      " 33%|███▎      | 3/9 [05:49<12:12, 122.04s/it]"
     ]
    },
    {
     "name": "stdout",
     "output_type": "stream",
     "text": [
      "checking...\n",
      "['imports_of_goods_and_services_of_gdp_high', 'gdp_current_us_high']\n",
      "asp_rule exists:  gdp_current_us_high :- imports_of_goods_and_services_of_gdp_high.\n",
      "checking...\n",
      "['imports_of_goods_and_services_of_gdp_high', 'gross_capital_formation_of_gdp_high']\n",
      "checking...\n",
      "['imports_of_goods_and_services_of_gdp_high', 'exports_of_goods_and_services_of_gdp_high']\n",
      "asp_rule exists:  exports_of_goods_and_services_of_gdp_high :- imports_of_goods_and_services_of_gdp_high.\n",
      "checking...\n",
      "['imports_of_goods_and_services_of_gdp_high', 'unemployment_rate_high']\n",
      "asp_rule exists:  unemployment_rate_high :- imports_of_goods_and_services_of_gdp_high.\n",
      "checking...\n",
      "['imports_of_goods_and_services_of_gdp_high', 'co2_emissions_per_capita_high']\n",
      "checking...\n",
      "['imports_of_goods_and_services_of_gdp_high', 'renewable_energy_consumption_of_total_final_energy_consumption_high']\n"
     ]
    },
    {
     "name": "stderr",
     "output_type": "stream",
     "text": [
      " 44%|████▍     | 4/9 [07:43<09:53, 118.66s/it]"
     ]
    },
    {
     "name": "stdout",
     "output_type": "stream",
     "text": [
      "checking...\n",
      "['unemployment_rate_high', 'gdp_current_us_high']\n",
      "asp_rule exists:  gdp_current_us_high :- unemployment_rate_high.\n",
      "checking...\n",
      "['unemployment_rate_high', 'gross_capital_formation_of_gdp_high']\n",
      "asp_rule exists:  gross_capital_formation_of_gdp_high :- unemployment_rate_high.\n",
      "checking...\n",
      "['unemployment_rate_high', 'exports_of_goods_and_services_of_gdp_high']\n",
      "asp_rule does not exist.\n",
      "checking...\n",
      "['unemployment_rate_high', 'imports_of_goods_and_services_of_gdp_high']\n",
      "asp_rule does not exist.\n",
      "checking...\n",
      "['unemployment_rate_high', 'total_labor_force_high']\n",
      "asp_rule exists:  total_labor_force_high :- unemployment_rate_high.\n",
      "checking...\n",
      "['unemployment_rate_high', 'co2_emissions_per_capita_high']\n",
      "asp_rule exists:  co2_emissions_per_capita_high :- unemployment_rate_high.\n",
      "checking...\n",
      "['unemployment_rate_high', 'renewable_energy_consumption_of_total_final_energy_consumption_high']\n",
      "checking...\n",
      "['unemployment_rate_high', 'energy_use_per_capita_kg_of_oil_equivalent_high']\n"
     ]
    },
    {
     "name": "stderr",
     "output_type": "stream",
     "text": [
      " 56%|█████▌    | 5/9 [09:59<08:20, 125.02s/it]"
     ]
    },
    {
     "name": "stdout",
     "output_type": "stream",
     "text": [
      "asp_rule exists:  energy_use_per_capita_kg_of_oil_equivalent_high :- unemployment_rate_high.\n",
      "checking...\n",
      "['total_labor_force_high', 'gdp_current_us_high']\n",
      "asp_rule exists:  gdp_current_us_high :- total_labor_force_high.\n",
      "checking...\n",
      "['total_labor_force_high', 'gross_capital_formation_of_gdp_high']\n",
      "asp_rule exists:  gross_capital_formation_of_gdp_high :- total_labor_force_high.\n",
      "checking...\n",
      "['total_labor_force_high', 'exports_of_goods_and_services_of_gdp_high']\n",
      "checking...\n",
      "['total_labor_force_high', 'imports_of_goods_and_services_of_gdp_high']\n",
      "checking...\n",
      "['total_labor_force_high', 'unemployment_rate_high']\n",
      "asp_rule exists:  unemployment_rate_high :- total_labor_force_high.\n",
      "checking...\n",
      "['total_labor_force_high', 'co2_emissions_per_capita_high']\n",
      "asp_rule does not exist.\n",
      "checking...\n",
      "['total_labor_force_high', 'renewable_energy_consumption_of_total_final_energy_consumption_high']\n"
     ]
    },
    {
     "name": "stderr",
     "output_type": "stream",
     "text": [
      " 67%|██████▋   | 6/9 [12:26<06:36, 132.32s/it]"
     ]
    },
    {
     "name": "stdout",
     "output_type": "stream",
     "text": [
      "asp_rule exists:  renewable_energy_consumption_of_total_final_energy_consumption_high :- total_labor_force_high.\n",
      "checking...\n",
      "['co2_emissions_per_capita_high', 'gdp_current_us_high']\n",
      "asp_rule exists:  gdp_current_us_high :- co2_emissions_per_capita_high.\n",
      "checking...\n",
      "['co2_emissions_per_capita_high', 'exports_of_goods_and_services_of_gdp_high']\n",
      "checking...\n",
      "['co2_emissions_per_capita_high', 'unemployment_rate_high']\n",
      "asp_rule exists:  unemployment_rate_high :- co2_emissions_per_capita_high.\n",
      "checking...\n",
      "['co2_emissions_per_capita_high', 'total_labor_force_high']\n",
      "checking...\n",
      "['co2_emissions_per_capita_high', 'renewable_energy_consumption_of_total_final_energy_consumption_high']\n",
      "asp_rule exists:  renewable_energy_consumption_of_total_final_energy_consumption_high :- co2_emissions_per_capita_high.\n",
      "checking...\n",
      "['co2_emissions_per_capita_high', 'energy_use_per_capita_kg_of_oil_equivalent_high']\n"
     ]
    },
    {
     "name": "stderr",
     "output_type": "stream",
     "text": [
      " 78%|███████▊  | 7/9 [14:33<04:21, 130.55s/it]"
     ]
    },
    {
     "name": "stdout",
     "output_type": "stream",
     "text": [
      "asp_rule exists:  energy_use_per_capita_kg_of_oil_equivalent_high :- co2_emissions_per_capita_high.\n",
      "checking...\n",
      "['renewable_energy_consumption_of_total_final_energy_consumption_high', 'gdp_current_us_high']\n",
      "checking...\n",
      "['renewable_energy_consumption_of_total_final_energy_consumption_high', 'gross_capital_formation_of_gdp_high']\n",
      "checking...\n",
      "['renewable_energy_consumption_of_total_final_energy_consumption_high', 'exports_of_goods_and_services_of_gdp_high']\n",
      "checking...\n",
      "['renewable_energy_consumption_of_total_final_energy_consumption_high', 'imports_of_goods_and_services_of_gdp_high']\n",
      "asp_rule does not exist.\n",
      "checking...\n",
      "['renewable_energy_consumption_of_total_final_energy_consumption_high', 'unemployment_rate_high']\n",
      "asp_rule exists:  unemployment_rate_high :- renewable_energy_consumption_of_total_final_energy_consumption_high.\n",
      "checking...\n",
      "['renewable_energy_consumption_of_total_final_energy_consumption_high', 'total_labor_force_high']\n",
      "checking...\n",
      "['renewable_energy_consumption_of_total_final_energy_consumption_high', 'co2_emissions_per_capita_high']\n",
      "asp_rule exists:  co2_emissions_per_capita_low :- renewable_energy_consumption_of_total_final_energy_consumption_high.\n",
      "checking...\n",
      "['renewable_energy_consumption_of_total_final_energy_consumption_high', 'energy_use_per_capita_kg_of_oil_equivalent_high']\n"
     ]
    },
    {
     "name": "stderr",
     "output_type": "stream",
     "text": [
      " 89%|████████▉ | 8/9 [16:59<02:15, 135.61s/it]"
     ]
    },
    {
     "name": "stdout",
     "output_type": "stream",
     "text": [
      "asp_rule exists:  energy_use_per_capita_kg_of_oil_equivalent_high :- renewable_energy_consumption_of_total_final_energy_consumption_high.\n",
      "checking...\n",
      "['energy_use_per_capita_kg_of_oil_equivalent_high', 'gdp_current_us_high']\n",
      "asp_rule exists:  gdp_current_us_high :- energy_use_per_capita_kg_of_oil_equivalent_high.\n",
      "checking...\n",
      "['energy_use_per_capita_kg_of_oil_equivalent_high', 'gross_capital_formation_of_gdp_high']\n",
      "asp_rule does not exist.\n",
      "checking...\n",
      "['energy_use_per_capita_kg_of_oil_equivalent_high', 'exports_of_goods_and_services_of_gdp_high']\n",
      "asp_rule does not exist.\n",
      "checking...\n",
      "['energy_use_per_capita_kg_of_oil_equivalent_high', 'imports_of_goods_and_services_of_gdp_high']\n",
      "asp_rule exists:  imports_of_goods_and_services_of_gdp_high :- energy_use_per_capita_kg_of_oil_equivalent_high.\n",
      "checking...\n",
      "['energy_use_per_capita_kg_of_oil_equivalent_high', 'unemployment_rate_high']\n",
      "asp_rule exists:  unemployment_rate_high :- energy_use_per_capita_kg_of_oil_equivalent_high.\n",
      "checking...\n",
      "['energy_use_per_capita_kg_of_oil_equivalent_high', 'total_labor_force_high']\n",
      "checking...\n",
      "['energy_use_per_capita_kg_of_oil_equivalent_high', 'co2_emissions_per_capita_high']\n"
     ]
    },
    {
     "name": "stderr",
     "output_type": "stream",
     "text": [
      "100%|██████████| 9/9 [19:09<00:00, 127.74s/it]"
     ]
    },
    {
     "name": "stdout",
     "output_type": "stream",
     "text": [
      "asp_rule exists:  co2_emissions_per_capita_high :- energy_use_per_capita_kg_of_oil_equivalent_high.\n",
      "==== Newly added ====\n",
      "gross_capital_formation_of_gdp_high :- gdp_current_us_high.\n",
      "exports_of_goods_and_services_of_gdp_high :- gdp_current_us_high.\n",
      "imports_of_goods_and_services_of_gdp_high :- gdp_current_us_high.\n",
      "unemployment_rate_high :- not gdp_current_us_high.\n",
      "total_labor_force_high :- gdp_current_us_high.\n",
      "co2_emissions_per_capita_high :- gdp_current_us_high.\n",
      "energy_use_per_capita_kg_of_oil_equivalent_high :- gdp_current_us_high.\n",
      "gdp_current_us_high :- gross_capital_formation_of_gdp_high.\n",
      "exports_of_goods_and_services_of_gdp_high :- gross_capital_formation_of_gdp_high.\n",
      "imports_of_goods_and_services_of_gdp_high :- gross_capital_formation_of_gdp_high.\n",
      "unemployment_rate_high :- gross_capital_formation_of_gdp_high.\n",
      "co2_emissions_per_capita_high :- gross_capital_formation_of_gdp_high.\n",
      "renewable_energy_consumption_of_total_final_energy_consumption_high :- gross_capital_formation_of_gdp_high.\n",
      "energy_use_per_capita_kg_of_oil_equivalent_high :- gross_capital_formation_of_gdp_high.\n",
      "gdp_current_us_high :- exports_of_goods_and_services_of_gdp_high.\n",
      "gross_capital_formation_of_gdp_high :- exports_of_goods_and_services_of_gdp_high.\n",
      "imports_of_goods_and_services_of_gdp_high :- exports_of_goods_and_services_of_gdp_high.\n",
      "unemployment_rate_high :- exports_of_goods_and_services_of_gdp_high.\n",
      "total_labor_force_high :- exports_of_goods_and_services_of_gdp_high.\n",
      "gdp_current_us_high :- imports_of_goods_and_services_of_gdp_high.\n",
      "exports_of_goods_and_services_of_gdp_high :- imports_of_goods_and_services_of_gdp_high.\n",
      "unemployment_rate_high :- imports_of_goods_and_services_of_gdp_high.\n",
      "gdp_current_us_high :- unemployment_rate_high.\n",
      "gross_capital_formation_of_gdp_high :- unemployment_rate_high.\n",
      "total_labor_force_high :- unemployment_rate_high.\n",
      "co2_emissions_per_capita_high :- unemployment_rate_high.\n",
      "energy_use_per_capita_kg_of_oil_equivalent_high :- unemployment_rate_high.\n",
      "gdp_current_us_high :- total_labor_force_high.\n",
      "gross_capital_formation_of_gdp_high :- total_labor_force_high.\n",
      "unemployment_rate_high :- total_labor_force_high.\n",
      "renewable_energy_consumption_of_total_final_energy_consumption_high :- total_labor_force_high.\n",
      "gdp_current_us_high :- co2_emissions_per_capita_high.\n",
      "unemployment_rate_high :- co2_emissions_per_capita_high.\n",
      "renewable_energy_consumption_of_total_final_energy_consumption_high :- co2_emissions_per_capita_high.\n",
      "energy_use_per_capita_kg_of_oil_equivalent_high :- co2_emissions_per_capita_high.\n",
      "unemployment_rate_high :- renewable_energy_consumption_of_total_final_energy_consumption_high.\n",
      "co2_emissions_per_capita_low :- renewable_energy_consumption_of_total_final_energy_consumption_high.\n",
      "energy_use_per_capita_kg_of_oil_equivalent_high :- renewable_energy_consumption_of_total_final_energy_consumption_high.\n",
      "gdp_current_us_high :- energy_use_per_capita_kg_of_oil_equivalent_high.\n",
      "imports_of_goods_and_services_of_gdp_high :- energy_use_per_capita_kg_of_oil_equivalent_high.\n",
      "unemployment_rate_high :- energy_use_per_capita_kg_of_oil_equivalent_high.\n",
      "co2_emissions_per_capita_high :- energy_use_per_capita_kg_of_oil_equivalent_high.\n"
     ]
    },
    {
     "name": "stderr",
     "output_type": "stream",
     "text": [
      "\n"
     ]
    }
   ],
   "source": [
    "# 例として簡単な因果グラフを作成\n",
    "import networkx as nx\n",
    "# 背景知識の抽出（Ollamaで経済社会的背景を推定）\n",
    "rules = extract_background_rules(G) # rulesは既存のbackground_rules.lpになく、新たに抽出された知識\n",
    "\n",
    "print(\"==== Newly added ====\")\n",
    "with open(\"rules/background_rules.lp\",mode=\"a\",encoding=\"utf-8\") as f:\n",
    "    for r in rules:\n",
    "        print(r)\n",
    "        f.write(r+\"\\n\")"
   ]
  },
  {
   "cell_type": "markdown",
   "id": "17def534-e842-47f4-9fc0-f53dcebb3d7b",
   "metadata": {},
   "source": [
    "## 観測データ由来のブーリアンルールと背景知識由来のブーリアンルールをもとに解集合プログラミング"
   ]
  },
  {
   "cell_type": "code",
   "execution_count": 16,
   "id": "a6e57690-63ac-48e2-b764-e5635d681881",
   "metadata": {},
   "outputs": [
    {
     "name": "stdout",
     "output_type": "stream",
     "text": [
      "=== ASP プログラム ===\n",
      "gross_capital_formation_of_gdp_high :- gdp_current_us_high.\n",
      "exports_of_goods_and_services_of_gdp_high :- gdp_current_us_high.\n",
      "imports_of_goods_and_services_of_gdp_high :- gdp_current_us_high.\n",
      "tax_revenue_of_gdp_high :- gdp_current_us_high.\n",
      "total_labor_force_high :- gdp_current_us_high.\n",
      "co2_emissions_per_capita_high :- gdp_current_us_high.\n",
      "renewable_energy_consumption_of_total_final_energy_consumption_high :- gdp_current_us_high.\n",
      "energy_use_per_capita_kg_of_oil_equivalent_high :- gdp_current_us_high.\n",
      "gdp_current_us_high :- gross_capital_formation_of_gdp_high.\n",
      "exports_of_goods_and_services_of_gdp_high :- gross_capital_formation_of_gdp_high.\n",
      "imports_of_goods_and_services_of_gdp_high :- gross_capital_formation_of_gdp_high.\n",
      "tax_revenue_of_gdp_high :- gross_capital_formation_of_gdp_high.\n",
      "co2_emissions_per_capita_high :- gross_capital_formation_of_gdp_high.\n",
      "energy_use_per_capita_kg_of_oil_equivalent_high :- gross_capital_formation_of_gdp_high.\n",
      "gdp_current_us_high :- exports_of_goods_and_services_of_gdp_high.\n",
      "gross_capital_formation_of_gdp_high :- exports_of_goods_and_services_of_gdp_high.\n",
      "imports_of_goods_and_services_of_gdp_high :- exports_of_goods_and_services_of_gdp_high.\n",
      "tax_revenue_of_gdp_high :- exports_of_goods_and_services_of_gdp_high.\n",
      "total_labor_force_high :- exports_of_goods_and_services_of_gdp_high.\n",
      "energy_use_per_capita_kg_of_oil_equivalent_high :- exports_of_goods_and_services_of_gdp_high.\n",
      "gdp_current_us_high :- imports_of_goods_and_services_of_gdp_high.\n",
      "gross_capital_formation_of_gdp_low :- imports_of_goods_and_services_of_gdp_high.\n",
      "exports_of_goods_and_services_of_gdp_high :- imports_of_goods_and_services_of_gdp_high.\n",
      "co2_emissions_per_capita_high :- imports_of_goods_and_services_of_gdp_high.\n",
      "gdp_current_us_high :- tax_revenue_of_gdp_high.\n",
      "gross_capital_formation_of_gdp_high :- tax_revenue_of_gdp_high.\n",
      "imports_of_goods_and_services_of_gdp_high :- tax_revenue_of_gdp_high.\n",
      "co2_emissions_per_capita_high :- tax_revenue_of_gdp_high.\n",
      "energy_use_per_capita_kg_of_oil_equivalent_high :- tax_revenue_of_gdp_high.\n",
      "gdp_current_us_high :- total_labor_force_high.\n",
      "gross_capital_formation_of_gdp_high :- total_labor_force_high.\n",
      "exports_of_goods_and_services_of_gdp_high :- total_labor_force_high.\n",
      "imports_of_goods_and_services_of_gdp_high :- total_labor_force_high.\n",
      "tax_revenue_of_gdp_high :- total_labor_force_high.\n",
      "co2_emissions_per_capita_high :- total_labor_force_high.\n",
      "gdp_current_us_high :- co2_emissions_per_capita_high.\n",
      "renewable_energy_consumption_of_total_final_energy_consumption_high :- co2_emissions_per_capita_high.\n",
      "energy_use_per_capita_kg_of_oil_equivalent_high :- co2_emissions_per_capita_high.\n",
      "gdp_current_us_low :- renewable_energy_consumption_of_total_final_energy_consumption_high.\n",
      "co2_emissions_per_capita_low :- renewable_energy_consumption_of_total_final_energy_consumption_high.\n",
      "energy_use_per_capita_kg_of_oil_equivalent_high :- renewable_energy_consumption_of_total_final_energy_consumption_high.\n",
      "gdp_current_us_high :- energy_use_per_capita_kg_of_oil_equivalent_high.\n",
      "gross_capital_formation_of_gdp_high :- energy_use_per_capita_kg_of_oil_equivalent_high.\n",
      "imports_of_goods_and_services_of_gdp_high :- energy_use_per_capita_kg_of_oil_equivalent_high.\n",
      "total_labor_force_high :- energy_use_per_capita_kg_of_oil_equivalent_high.\n",
      "co2_emissions_per_capita_high :- energy_use_per_capita_kg_of_oil_equivalent_high.\n",
      "gross_capital_formation_of_gdp_high :- gdp_current_us_high.\n",
      "total_labor_force_high :- gdp_current_us_high.\n",
      "gdp_current_us_high :- gross_capital_formation_of_gdp_high.\n",
      "gdp_current_us_high :- total_labor_force_high.\n",
      "gross_capital_formation_of_gdp_high :- total_labor_force_high.\n",
      "gross_capital_formation_of_gdp_high :- gdp_current_us_high.\n",
      "exports_of_goods_and_services_of_gdp_high :- gdp_current_us_high.\n",
      "imports_of_goods_and_services_of_gdp_high :- gdp_current_us_high.\n",
      "unemployment_rate_high :- not gdp_current_us_high.\n",
      "total_labor_force_high :- gdp_current_us_high.\n",
      "co2_emissions_per_capita_high :- gdp_current_us_high.\n",
      "energy_use_per_capita_kg_of_oil_equivalent_high :- gdp_current_us_high.\n",
      "gdp_current_us_high :- gross_capital_formation_of_gdp_high.\n",
      "exports_of_goods_and_services_of_gdp_high :- gross_capital_formation_of_gdp_high.\n",
      "imports_of_goods_and_services_of_gdp_high :- gross_capital_formation_of_gdp_high.\n",
      "unemployment_rate_high :- gross_capital_formation_of_gdp_high.\n",
      "co2_emissions_per_capita_high :- gross_capital_formation_of_gdp_high.\n",
      "renewable_energy_consumption_of_total_final_energy_consumption_high :- gross_capital_formation_of_gdp_high.\n",
      "energy_use_per_capita_kg_of_oil_equivalent_high :- gross_capital_formation_of_gdp_high.\n",
      "gdp_current_us_high :- exports_of_goods_and_services_of_gdp_high.\n",
      "gross_capital_formation_of_gdp_high :- exports_of_goods_and_services_of_gdp_high.\n",
      "imports_of_goods_and_services_of_gdp_high :- exports_of_goods_and_services_of_gdp_high.\n",
      "unemployment_rate_high :- exports_of_goods_and_services_of_gdp_high.\n",
      "total_labor_force_high :- exports_of_goods_and_services_of_gdp_high.\n",
      "gdp_current_us_high :- imports_of_goods_and_services_of_gdp_high.\n",
      "exports_of_goods_and_services_of_gdp_high :- imports_of_goods_and_services_of_gdp_high.\n",
      "unemployment_rate_high :- imports_of_goods_and_services_of_gdp_high.\n",
      "gdp_current_us_high :- unemployment_rate_high.\n",
      "gross_capital_formation_of_gdp_high :- unemployment_rate_high.\n",
      "total_labor_force_high :- unemployment_rate_high.\n",
      "co2_emissions_per_capita_high :- unemployment_rate_high.\n",
      "energy_use_per_capita_kg_of_oil_equivalent_high :- unemployment_rate_high.\n",
      "gdp_current_us_high :- total_labor_force_high.\n",
      "gross_capital_formation_of_gdp_high :- total_labor_force_high.\n",
      "unemployment_rate_high :- total_labor_force_high.\n",
      "renewable_energy_consumption_of_total_final_energy_consumption_high :- total_labor_force_high.\n",
      "gdp_current_us_high :- co2_emissions_per_capita_high.\n",
      "unemployment_rate_high :- co2_emissions_per_capita_high.\n",
      "renewable_energy_consumption_of_total_final_energy_consumption_high :- co2_emissions_per_capita_high.\n",
      "energy_use_per_capita_kg_of_oil_equivalent_high :- co2_emissions_per_capita_high.\n",
      "unemployment_rate_high :- renewable_energy_consumption_of_total_final_energy_consumption_high.\n",
      "co2_emissions_per_capita_low :- renewable_energy_consumption_of_total_final_energy_consumption_high.\n",
      "energy_use_per_capita_kg_of_oil_equivalent_high :- renewable_energy_consumption_of_total_final_energy_consumption_high.\n",
      "gdp_current_us_high :- energy_use_per_capita_kg_of_oil_equivalent_high.\n",
      "imports_of_goods_and_services_of_gdp_high :- energy_use_per_capita_kg_of_oil_equivalent_high.\n",
      "unemployment_rate_high :- energy_use_per_capita_kg_of_oil_equivalent_high.\n",
      "co2_emissions_per_capita_high :- energy_use_per_capita_kg_of_oil_equivalent_high.\n",
      "total_labor_force_high :- gdp_current_us_high.\n",
      "co2_emissions_per_capita_high :- not gdp_current_us_high.\n",
      "energy_use_per_capita_kg_of_oil_equivalent_high :- not gdp_current_us_high.\n",
      "co2_emissions_per_capita_high :- not gross_capital_formation_of_gdp_high.\n",
      "energy_use_per_capita_kg_of_oil_equivalent_high :- not gross_capital_formation_of_gdp_high.\n",
      "unemployment_rate_high :- exports_of_goods_and_services_of_gdp_high.\n",
      "co2_emissions_per_capita_high :- exports_of_goods_and_services_of_gdp_high.\n",
      "exports_of_goods_and_services_of_gdp_high :- imports_of_goods_and_services_of_gdp_high.\n",
      "total_labor_force_high :- not imports_of_goods_and_services_of_gdp_high.\n",
      "energy_use_per_capita_kg_of_oil_equivalent_high :- co2_emissions_per_capita_high.\n",
      "exports_of_goods_and_services_of_gdp_high :- not renewable_energy_consumption_of_total_final_energy_consumption_high.\n",
      "co2_emissions_per_capita_high :- not renewable_energy_consumption_of_total_final_energy_consumption_high.\n",
      "unemployment_rate_high :- energy_use_per_capita_kg_of_oil_equivalent_high.\n",
      "======================\n",
      "❌ 非充足：Answer Setが存在しません（ルールに矛盾あり）。\n"
     ]
    },
    {
     "data": {
      "text/plain": [
       "(False, [])"
      ]
     },
     "execution_count": 16,
     "metadata": {},
     "output_type": "execute_result"
    }
   ],
   "source": [
    "# 充足可能性判定\n",
    "data_rules = []\n",
    "with open(\"rules/data_rules.lp\") as f:\n",
    "    line = f.readline()[:-1]\n",
    "    while line:\n",
    "        data_rules.append(line)\n",
    "        line = f.readline()[:-1]\n",
    "\n",
    "background_rules = []\n",
    "with open(\"rules/background_rules.lp\") as f:\n",
    "    line = f.readline()[:-1]\n",
    "    while line:\n",
    "        background_rules.append(line)\n",
    "        line = f.readline()[:-1]\n",
    "\n",
    "check_satisfiability(data_rules, background_rules, verbose=True)"
   ]
  },
  {
   "cell_type": "code",
   "execution_count": 17,
   "id": "50b375c6-47b8-42cc-96d2-7f2f6c4bdf04",
   "metadata": {},
   "outputs": [
    {
     "name": "stdout",
     "output_type": "stream",
     "text": [
      "\n",
      "Conflict #1:\n",
      "  [Data]       co2_emissions_per_capita_high :- not gdp_current_us_high\n",
      "  [Background] co2_emissions_per_capita_high :- gdp_current_us_high\n",
      "\n",
      "Conflict #2:\n",
      "  [Data]       co2_emissions_per_capita_high :- not gdp_current_us_high\n",
      "  [Background] co2_emissions_per_capita_high :- gdp_current_us_high\n",
      "\n",
      "Conflict #3:\n",
      "  [Data]       energy_use_per_capita_kg_of_oil_equivalent_high :- not gdp_current_us_high\n",
      "  [Background] energy_use_per_capita_kg_of_oil_equivalent_high :- gdp_current_us_high\n",
      "\n",
      "Conflict #4:\n",
      "  [Data]       energy_use_per_capita_kg_of_oil_equivalent_high :- not gdp_current_us_high\n",
      "  [Background] energy_use_per_capita_kg_of_oil_equivalent_high :- gdp_current_us_high\n",
      "\n",
      "Conflict #5:\n",
      "  [Data]       co2_emissions_per_capita_high :- not gross_capital_formation_of_gdp_high\n",
      "  [Background] co2_emissions_per_capita_high :- gross_capital_formation_of_gdp_high\n",
      "\n",
      "Conflict #6:\n",
      "  [Data]       co2_emissions_per_capita_high :- not gross_capital_formation_of_gdp_high\n",
      "  [Background] co2_emissions_per_capita_high :- gross_capital_formation_of_gdp_high\n",
      "\n",
      "Conflict #7:\n",
      "  [Data]       energy_use_per_capita_kg_of_oil_equivalent_high :- not gross_capital_formation_of_gdp_high\n",
      "  [Background] energy_use_per_capita_kg_of_oil_equivalent_high :- gross_capital_formation_of_gdp_high\n",
      "\n",
      "Conflict #8:\n",
      "  [Data]       energy_use_per_capita_kg_of_oil_equivalent_high :- not gross_capital_formation_of_gdp_high\n",
      "  [Background] energy_use_per_capita_kg_of_oil_equivalent_high :- gross_capital_formation_of_gdp_high\n"
     ]
    }
   ],
   "source": [
    "# 矛盾するルールの検出\n",
    "conflicts = detect_conflicts(data_rules, background_rules)\n",
    "for i, (d_rule, b_rule) in enumerate(conflicts, 1):\n",
    "    print(f\"\\nConflict #{i}:\")\n",
    "    print(f\"  [Data]       {d_rule[1]} :- {', '.join(d_rule[2])}\")\n",
    "    print(f\"  [Background] {b_rule[1]} :- {', '.join(b_rule[2])}\")"
   ]
  },
  {
   "cell_type": "code",
   "execution_count": 18,
   "id": "4567e61a-f207-4e5b-97c9-0849ec72e1eb",
   "metadata": {},
   "outputs": [
    {
     "name": "stdout",
     "output_type": "stream",
     "text": [
      "=== 使用可能な観測ルール ===\n",
      "total_labor_force_high :- gdp_current_us_high.\n",
      "unemployment_rate_high :- exports_of_goods_and_services_of_gdp_high.\n",
      "co2_emissions_per_capita_high :- exports_of_goods_and_services_of_gdp_high.\n",
      "exports_of_goods_and_services_of_gdp_high :- imports_of_goods_and_services_of_gdp_high.\n",
      "total_labor_force_high :- not imports_of_goods_and_services_of_gdp_high.\n",
      "energy_use_per_capita_kg_of_oil_equivalent_high :- co2_emissions_per_capita_high.\n",
      "exports_of_goods_and_services_of_gdp_high :- not renewable_energy_consumption_of_total_final_energy_consumption_high.\n",
      "co2_emissions_per_capita_high :- not renewable_energy_consumption_of_total_final_energy_consumption_high.\n",
      "unemployment_rate_high :- energy_use_per_capita_kg_of_oil_equivalent_high.\n",
      "\n",
      "=== 削除された矛盾ルール ===\n",
      "co2_emissions_per_capita_high :- not gdp_current_us_high.\n",
      "energy_use_per_capita_kg_of_oil_equivalent_high :- not gdp_current_us_high.\n",
      "co2_emissions_per_capita_high :- not gross_capital_formation_of_gdp_high.\n",
      "energy_use_per_capita_kg_of_oil_equivalent_high :- not gross_capital_formation_of_gdp_high.\n"
     ]
    }
   ],
   "source": [
    "cleaned, removed = remove_conflicting_data_rules(data_rules, background_rules)\n",
    "\n",
    "# === 結果出力 ===\n",
    "print(\"=== 使用可能な観測ルール ===\")\n",
    "with open(\"rules/cleaned_data_rules.lp\",mode=\"w\",encoding=\"utf-8\") as f:\n",
    "    for rule in cleaned:\n",
    "        f.write(rule+\"\\n\")\n",
    "        print(rule)\n",
    "\n",
    "print(\"\\n=== 削除された矛盾ルール ===\")\n",
    "for rule in removed:\n",
    "    print(rule)"
   ]
  },
  {
   "cell_type": "code",
   "execution_count": 19,
   "id": "1a25a631-5d26-4dd9-8392-2f10f0e12d0e",
   "metadata": {},
   "outputs": [],
   "source": [
    "results = run_clingo(\"rules/background_rules.lp\", \"rules/cleaned_data_rules.lp\", \"rules/infer_hypotheses.lp\")\n",
    "for r in results:\n",
    "    print(\"Answer Set:\", r)"
   ]
  },
  {
   "cell_type": "markdown",
   "id": "02d0059c-0a2f-4dae-9bab-a7b3484bf1ab",
   "metadata": {},
   "source": [
    "## 使用可能な観測データ由来のブーリアンルールをもとにCGEモデルを構築＆係数推定"
   ]
  },
  {
   "cell_type": "code",
   "execution_count": 20,
   "id": "d471d165-1e91-4651-869f-1f441df4c63b",
   "metadata": {},
   "outputs": [],
   "source": [
    "cleaned_data_rules = []\n",
    "with open(\"rules/cleaned_data_rules.lp\") as f:\n",
    "    line = f.readline()[:-1]\n",
    "    while line:\n",
    "        cleaned_data_rules.append(line)\n",
    "        line = f.readline()[:-1]"
   ]
  },
  {
   "cell_type": "code",
   "execution_count": 21,
   "id": "a780779b-4388-438a-a5b2-108fccdb601f",
   "metadata": {},
   "outputs": [
    {
     "data": {
      "image/png": "[encoded data removed]",
      "text/plain": [
       "<Figure size 1600x1200 with 1 Axes>"
      ]
     },
     "metadata": {},
     "output_type": "display_data"
    },
    {
     "name": "stdout",
     "output_type": "stream",
     "text": [
      "✅ エッジ情報を data/causal_graph_edges_cleaned.csv に保存しました。\n"
     ]
    }
   ],
   "source": [
    "# 使用可能な観測ルールから因果グラフに戻す\n",
    "plot_causal_graph_from_rules(cleaned_data_rules)"
   ]
  },
  {
   "cell_type": "code",
   "execution_count": 29,
   "id": "d1b74052-55d7-4a12-bc90-fd0d6d48e379",
   "metadata": {},
   "outputs": [
    {
     "data": {
      "text/html": [
       "<div>\n",
       "<style scoped>\n",
       "    .dataframe tbody tr th:only-of-type {\n",
       "        vertical-align: middle;\n",
       "    }\n",
       "\n",
       "    .dataframe tbody tr th {\n",
       "        vertical-align: top;\n",
       "    }\n",
       "\n",
       "    .dataframe thead th {\n",
       "        text-align: right;\n",
       "    }\n",
       "</style>\n",
       "<table border=\"1\" class=\"dataframe\">\n",
       "  <thead>\n",
       "    <tr style=\"text-align: right;\">\n",
       "      <th></th>\n",
       "      <th>unemployment_rate_high</th>\n",
       "      <th>gdp_current_us_high</th>\n",
       "      <th>exports_of_goods_and_services_of_gdp_high</th>\n",
       "      <th>gross_capital_formation_of_gdp_high</th>\n",
       "      <th>imports_of_goods_and_services_of_gdp_high</th>\n",
       "      <th>total_labor_force_high</th>\n",
       "      <th>co2_emissions_per_capita_high</th>\n",
       "      <th>renewable_energy_consumption_of_total_final_energy_consumption_high</th>\n",
       "      <th>energy_use_per_capita_kg_of_oil_equivalent_high</th>\n",
       "    </tr>\n",
       "  </thead>\n",
       "  <tbody>\n",
       "    <tr>\n",
       "      <th>0</th>\n",
       "      <td>-0.122786</td>\n",
       "      <td>1.222402</td>\n",
       "      <td>-1.457882</td>\n",
       "      <td>-0.367423</td>\n",
       "      <td>-1.696152</td>\n",
       "      <td>-0.247808</td>\n",
       "      <td>-0.330706</td>\n",
       "      <td>0.655971</td>\n",
       "      <td>0.313978</td>\n",
       "    </tr>\n",
       "    <tr>\n",
       "      <th>1</th>\n",
       "      <td>-0.225453</td>\n",
       "      <td>1.703085</td>\n",
       "      <td>-1.367196</td>\n",
       "      <td>-0.363928</td>\n",
       "      <td>-1.637550</td>\n",
       "      <td>-0.250650</td>\n",
       "      <td>-0.289526</td>\n",
       "      <td>0.581827</td>\n",
       "      <td>0.322789</td>\n",
       "    </tr>\n",
       "    <tr>\n",
       "      <th>2</th>\n",
       "      <td>-0.265231</td>\n",
       "      <td>1.524972</td>\n",
       "      <td>-1.329878</td>\n",
       "      <td>-0.421233</td>\n",
       "      <td>-1.521104</td>\n",
       "      <td>-0.246490</td>\n",
       "      <td>-0.227773</td>\n",
       "      <td>0.503049</td>\n",
       "      <td>0.390913</td>\n",
       "    </tr>\n",
       "    <tr>\n",
       "      <th>3</th>\n",
       "      <td>-0.287127</td>\n",
       "      <td>1.533931</td>\n",
       "      <td>-1.346993</td>\n",
       "      <td>-0.382491</td>\n",
       "      <td>-1.414902</td>\n",
       "      <td>-0.239056</td>\n",
       "      <td>-0.184648</td>\n",
       "      <td>0.447441</td>\n",
       "      <td>0.476689</td>\n",
       "    </tr>\n",
       "    <tr>\n",
       "      <th>4</th>\n",
       "      <td>-0.325566</td>\n",
       "      <td>1.514134</td>\n",
       "      <td>-1.439369</td>\n",
       "      <td>-0.542948</td>\n",
       "      <td>-1.463630</td>\n",
       "      <td>-0.233397</td>\n",
       "      <td>-0.147314</td>\n",
       "      <td>0.419636</td>\n",
       "      <td>0.530706</td>\n",
       "    </tr>\n",
       "  </tbody>\n",
       "</table>\n",
       "</div>"
      ],
      "text/plain": [
       "   unemployment_rate_high  gdp_current_us_high  \\\n",
       "0               -0.122786             1.222402   \n",
       "1               -0.225453             1.703085   \n",
       "2               -0.265231             1.524972   \n",
       "3               -0.287127             1.533931   \n",
       "4               -0.325566             1.514134   \n",
       "\n",
       "   exports_of_goods_and_services_of_gdp_high  \\\n",
       "0                                  -1.457882   \n",
       "1                                  -1.367196   \n",
       "2                                  -1.329878   \n",
       "3                                  -1.346993   \n",
       "4                                  -1.439369   \n",
       "\n",
       "   gross_capital_formation_of_gdp_high  \\\n",
       "0                            -0.367423   \n",
       "1                            -0.363928   \n",
       "2                            -0.421233   \n",
       "3                            -0.382491   \n",
       "4                            -0.542948   \n",
       "\n",
       "   imports_of_goods_and_services_of_gdp_high  total_labor_force_high  \\\n",
       "0                                  -1.696152               -0.247808   \n",
       "1                                  -1.637550               -0.250650   \n",
       "2                                  -1.521104               -0.246490   \n",
       "3                                  -1.414902               -0.239056   \n",
       "4                                  -1.463630               -0.233397   \n",
       "\n",
       "   co2_emissions_per_capita_high  \\\n",
       "0                      -0.330706   \n",
       "1                      -0.289526   \n",
       "2                      -0.227773   \n",
       "3                      -0.184648   \n",
       "4                      -0.147314   \n",
       "\n",
       "   renewable_energy_consumption_of_total_final_energy_consumption_high  \\\n",
       "0                                           0.655971                     \n",
       "1                                           0.581827                     \n",
       "2                                           0.503049                     \n",
       "3                                           0.447441                     \n",
       "4                                           0.419636                     \n",
       "\n",
       "   energy_use_per_capita_kg_of_oil_equivalent_high  \n",
       "0                                         0.313978  \n",
       "1                                         0.322789  \n",
       "2                                         0.390913  \n",
       "3                                         0.476689  \n",
       "4                                         0.530706  "
      ]
     },
     "execution_count": 29,
     "metadata": {},
     "output_type": "execute_result"
    }
   ],
   "source": [
    "import pandas as pd\n",
    "from sklearn.preprocessing import StandardScaler\n",
    "def standardize_dataframe(df):\n",
    "    numeric_cols = df.select_dtypes(include=['number']).columns\n",
    "    scaler = StandardScaler()\n",
    "    df_standardized = df.copy()\n",
    "    df_standardized[numeric_cols] = scaler.fit_transform(df[numeric_cols])\n",
    "    return df_standardized\n",
    "\n",
    "############################\n",
    "# Human manipulation \n",
    "############################\n",
    "df_for_cge = pd.DataFrame({\n",
    "    \"unemployment_rate_high\": pd.Series(df[\"Unemployment rate (%)\"]),\n",
    "    \"gdp_current_us_high\":pd.Series(df[\"GDP (current US$)\"]),\n",
    "    \"exports_of_goods_and_services_of_gdp_high\":pd.Series(df[\"Exports of goods and services (% of GDP)\"]),\n",
    "    \"gross_capital_formation_of_gdp_high\":pd.Series(df[\"Gross capital formation (% of GDP)\"]),\n",
    "    \"imports_of_goods_and_services_of_gdp_high\":pd.Series(df[\"Imports of goods and services (% of GDP)\"]),\n",
    "    # \"household_final_consumption_of_gdp_high\":pd.Series(df[\"Household final consumption (% of GDP)\"]),\n",
    "    \"total_labor_force_high\":pd.Series(df[\"Total labor force\"]),\n",
    "    #\"tax_revenue_of_gdp_high\":pd.Series(df[\"Tax revenue (% of GDP)\"]),\n",
    "    \"co2_emissions_per_capita_high\":pd.Series(df[\"CO2 emissions per capita\"]),\n",
    "    \"renewable_energy_consumption_of_total_final_energy_consumption_high\":pd.Series(df[\"Renewable energy consumption (% of total final energy consumption)\"]),\n",
    "    # \"pm2.5_air_pollution_micrograms_per_cubic_meter_high\":pd.Series(df[\"PM2.5 air pollution (micrograms per cubic meter)\"]),\n",
    "    \"energy_use_per_capita_kg_of_oil_equivalent_high\": pd.Series(df[\"Energy use per capita (kg of oil equivalent)\"])\n",
    "})\n",
    "\n",
    "df_for_cge = standardize_dataframe(df_for_cge)\n",
    "df_for_cge.head()"
   ]
  },
  {
   "cell_type": "markdown",
   "id": "d9fdf81f-dd0b-47c4-9946-2d3b65e9e7e4",
   "metadata": {},
   "source": [
    "回帰式の目的変数\n",
    "\"total_labor_force_high\",\n",
    "\"tax_revenue_of_gdp_high\", \n",
    "\"gross_capital_formation_of_gdp_high\"\n",
    "\n",
    "メインのコブダグラス生産関数\n",
    "\"capital :- tax_revenue_of_gdp_high, gross_capital_formation_of_gdp_high.\",\n",
    "\"labor :- total_labor_force_high.\",\n",
    "\"gdp_current_us_high :- capital, labor.\""
   ]
  },
  {
   "cell_type": "code",
   "execution_count": 30,
   "id": "93c88d50-46bf-4148-a10a-b70264fc036e",
   "metadata": {},
   "outputs": [],
   "source": [
    "############################\n",
    "# Human manipulation \n",
    "############################\n",
    "# 回帰の目的変数\n",
    "regression_targets = [\n",
    "    \"total_labor_force_high\",\n",
    "    # \"tax_revenue_of_gdp_high\",\n",
    "    \"gross_capital_formation_of_gdp_high\"\n",
    "]\n",
    "# Cobb-Douglasの構造ルール\n",
    "main_structure_rules = [\n",
    "    # \"capital :- tax_revenue_of_gdp_high, gross_capital_formation_of_gdp_high.\",\n",
    "    \"capital :- gross_capital_formation_of_gdp_high.\",\n",
    "    \"labor :- total_labor_force_high.\",\n",
    "    \"labor :- not unemployment_rate_high.\",\n",
    "    \"gdp_current_us_high :- capital, labor.\"\n",
    "]"
   ]
  },
  {
   "cell_type": "code",
   "execution_count": 31,
   "id": "10061fc5-1fcd-4e13-ad7b-08e1ada5207f",
   "metadata": {},
   "outputs": [
    {
     "name": "stdout",
     "output_type": "stream",
     "text": [
      "  Solver Status Model Status     Objective  Num of Equations  \\\n",
      "0        Normal    Unbounded  7.351596e+26                 3   \n",
      "\n",
      "   Num of Variables Model Type  Solver  Solver Time  \n",
      "0                 5        NLP  IPOPTH        0.003  \n",
      "⚠️ Skipping 'uni': not a Variable object.\n",
      "⚠️ Skipping 'capital': not a Variable object.\n",
      "⚠️ Skipping 'total_labor_force_high': not a Variable object.\n",
      "⚠️ Skipping 'gdp_current_us_high': not a Variable object.\n",
      "⚠️ Skipping 'element_text': not a Variable object.\n",
      "⚠️ Skipping 'labor': not a Variable object.\n",
      "Empty DataFrame\n",
      "Columns: []\n",
      "Index: []\n"
     ]
    }
   ],
   "source": [
    "container = build_custom_nested_cge_model(cleaned_data_rules, df_for_cge, regression_targets, main_structure_rules)\n",
    "container.write(\"data/cge_model.gdx\")  # GAMSコードとして出力"
   ]
  },
  {
   "cell_type": "code",
   "execution_count": 32,
   "id": "1d0a8c8b-0598-41a8-b7be-8fa20ce70743",
   "metadata": {},
   "outputs": [
    {
     "name": "stdout",
     "output_type": "stream",
     "text": [
      "⚠️ Skipping regression for gross_capital_formation_of_gdp_high due to empty data.\n"
     ]
    },
    {
     "data": {
      "text/markdown": [
       "$$\\text{total\\_labor\\_force\\_high} = 0.00 + 0.12 \\cdot (1 - imports\\_of\\_goods\\_and\\_services\\_of\\_gdp\\_high) + 0.75 \\cdot gdp\\_current\\_us\\_high$$\n",
       "\n",
       "$$\\text{gdp\\_current\\_us\\_high} = A \\cdot (\\text{capital})^{\\alpha_{1}} \\cdot (\\text{labor})^{\\alpha_{2}}$$"
      ],
      "text/plain": [
       "<IPython.core.display.Markdown object>"
      ]
     },
     "metadata": {},
     "output_type": "display_data"
    }
   ],
   "source": [
    "# nested CGEモデルの数式表示\n",
    "generate_latex_equations_with_coefficients(\n",
    "    rules=cleaned_data_rules,\n",
    "    regression_targets=[\n",
    "        \"total_labor_force_high\",\n",
    "        # \"tax_revenue_of_gdp_high\",\n",
    "        \"gross_capital_formation_of_gdp_high\"\n",
    "    ],\n",
    "    main_structure_rules=[\n",
    "        \"capital :- tax_revenue_of_gdp_high, gross_capital_formation_of_gdp_high.\",\n",
    "        \"labor :- total_labor_force_high.\",\n",
    "        \"labor :- not unemployment_rate_high.\",\n",
    "        \"gdp_current_us_high :- capital, labor.\"\n",
    "    ],\n",
    "    df=df_for_cge, \n",
    "    main_output=\"gdp_current_us_high\"\n",
    ")"
   ]
  },
  {
   "cell_type": "markdown",
   "id": "541c5bd0-3af6-40fe-aa96-222071a04c50",
   "metadata": {},
   "source": [
    "## αの推定"
   ]
  },
  {
   "cell_type": "code",
   "execution_count": 33,
   "id": "395dbde7-4c51-4238-832e-d7d53720f99c",
   "metadata": {},
   "outputs": [],
   "source": [
    "###############################\n",
    "# Human manipulation\n",
    "###############################\n",
    "# df_for_estimate_alpha = pd.DataFrame({\n",
    "#     \"capital\": 0.42*df_for_cge[\"gdp_current_us_high\"]+0.77*df_for_cge[\"gross_capital_formation_of_gdp_high\"]+0.22*(1-df_for_cge['tax_revenue_of_gdp_high']),\n",
    "#     \"labor\": -0.61*(1-df_for_cge['gross_capital_formation_of_gdp_high']),\n",
    "#     \"gdp\": df_for_cge[\"gdp_current_us_high\"]\n",
    "# })\n",
    "# 正規化されたα: {'capital': 1.6107138167815778, 'labor': -0.6107138167815777}\n",
    "\n",
    "df_for_estimate_alpha = pd.DataFrame({\n",
    "    \"capital\": df_for_cge['gross_capital_formation_of_gdp_high'],\n",
    "    \"labor\": 0.12*(1-df_for_cge['imports_of_goods_and_services_of_gdp_high'])+0.75*df_for_cge['gdp_current_us_high'],\n",
    "    \"gdp\": df_for_cge[\"gdp_current_us_high\"]\n",
    "})"
   ]
  },
  {
   "cell_type": "code",
   "execution_count": 34,
   "id": "3304b7ce-c21b-4faf-89c7-df53219f920c",
   "metadata": {},
   "outputs": [
    {
     "name": "stdout",
     "output_type": "stream",
     "text": [
      "正規化されたα: {'capital': 0.3761420220728869, 'labor': 0.6238579752898257}\n"
     ]
    },
    {
     "name": "stderr",
     "output_type": "stream",
     "text": [
      "C:\\Users\\user\\anaconda3\\envs\\seeps2025\\Lib\\site-packages\\pandas\\core\\internals\\blocks.py:393: RuntimeWarning: invalid value encountered in log\n",
      "  result = func(self.values, **kwargs)\n",
      "C:\\Users\\user\\anaconda3\\envs\\seeps2025\\Lib\\site-packages\\pandas\\core\\arraylike.py:399: RuntimeWarning: invalid value encountered in log\n",
      "  result = getattr(ufunc, method)(*inputs, **kwargs)\n"
     ]
    }
   ],
   "source": [
    "model, alpha_values = estimate_alpha_and_build_cd_model_constrained(\n",
    "    df_for_estimate_alpha, output_var=\"gdp\", input_vars=[\"capital\", \"labor\"]\n",
    ")\n",
    "print(\"正規化されたα:\", alpha_values)"
   ]
  },
  {
   "cell_type": "code",
   "execution_count": null,
   "id": "6ba33556-0bd6-4f2d-ac54-2fa435172af2",
   "metadata": {},
   "outputs": [],
   "source": []
  }
 ],
 "metadata": {
  "kernelspec": {
   "display_name": "Python 3 (ipykernel)",
   "language": "python",
   "name": "python3"
  },
  "language_info": {
   "codemirror_mode": {
    "name": "ipython",
    "version": 3
   },
   "file_extension": ".py",
   "mimetype": "text/x-python",
   "name": "python",
   "nbconvert_exporter": "python",
   "pygments_lexer": "ipython3",
   "version": "3.12.9"
  }
 },
 "nbformat": 4,
 "nbformat_minor": 5
}
